{
 "cells": [
  {
   "cell_type": "markdown",
   "metadata": {},
   "source": [
    "# 🏀 UCSD Basketball XML → Smartabase CSV\n",
    "\n",
    "This notebook processes raw NCAA box score XML files and converts **UCSD player data** into a **Smartabase-compatible CSV** file.\n",
    "\n",
    "✅ Automatically maps to Smartabase field keys\n",
    "✅ Only includes UCSD players\n",
    "✅ Skips non-playing entries\n",
    "✅ Runs directly in JupyterLite"
   ]
  },
  {
   "cell_type": "code",
   "execution_count": null,
   "metadata": {},
   "outputs": [],
   "source": [
    "# 📂 Step 1: Upload XML file (e.g., 2640430.XML)\n",
    "from IPython.display import display\n",
    "print(\"⬆️ Use the file browser to upload your XML file to this folder (left sidebar in JupyterLite)\")"
   ]
  },
  {
   "cell_type": "code",
   "execution_count": null,
   "metadata": {},
   "outputs": [],
   "source": [
    "# ▶️ Step 2: Run the UCSD data extraction script\n",
    "%run get_ucsd_data.py"
   ]
  },
  {
   "cell_type": "code",
   "execution_count": null,
   "metadata": {},
   "outputs": [],
   "source": [
    "# 📥 Step 3: Download the generated CSV\n",
    "from IPython.display import FileLink\n",
    "FileLink(\"ucsd_smartabase_upload.csv\")"
   ]
  }
 ],
 "metadata": {
  "kernelspec": {
   "display_name": "Python",
   "language": "python",
   "name": "python"
  },
  "language_info": {
   "name": "python"
  }
 },
 "nbformat": 4,
 "nbformat_minor": 5
}